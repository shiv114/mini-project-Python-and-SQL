{
 "cells": [
  {
   "cell_type": "code",
   "execution_count": 108,
   "id": "947ae590-e4cb-42a8-9950-4b0cc9a8b6a1",
   "metadata": {},
   "outputs": [],
   "source": [
    "import pymysql\n",
    "from sqlalchemy import create_engine\n",
    "import pandas as pd\n",
    "\n",
    "\n"
   ]
  },
  {
   "cell_type": "code",
   "execution_count": 110,
   "id": "a735990f-6ea4-41d5-8783-f606d4c82845",
   "metadata": {},
   "outputs": [],
   "source": [
    "conn=pymysql.connect(host='localhost',user='root',password='SQL@13442.',database='student_db')\n",
    "\n",
    "#a=curr.execute('select * from marks')\n",
    "#rows=a.fetchall()"
   ]
  },
  {
   "cell_type": "code",
   "execution_count": 114,
   "id": "bf04bc06-e4c9-42be-85ce-b19220c31169",
   "metadata": {},
   "outputs": [
    {
     "name": "stdout",
     "output_type": "stream",
     "text": [
      " student_ID name subject  marks\n",
      "          1 Amit    Math     80\n",
      "          1 Amit Physics     90\n",
      "          2 Riya Biology     92\n",
      "          2 Riya    Math     72\n",
      "          2 Riya Physics     64\n",
      "          3 Siya    Math     83\n",
      "          3 Siya Physics     90\n",
      "          4  Raj Biology     76\n",
      "          4  Raj    Math     84\n",
      "          4  Raj Physics     85\n",
      "name  avg_marks\n",
      "Amit    85.0000\n",
      "Riya    76.0000\n",
      "Siya    86.5000\n",
      " Raj    81.6667\n",
      "name  avg_marks\n",
      "Siya       86.5\n",
      "name subject  marks\n",
      "Amit Physics     90\n",
      "Riya Biology     92\n",
      "Siya Physics     90\n",
      " Raj    Math     84\n",
      "name subject  marks\n",
      "Riya Biology     92\n"
     ]
    },
    {
     "name": "stderr",
     "output_type": "stream",
     "text": [
      "/var/folders/tb/z0bq9g_91gq1wl6skvm3b0fm0000gn/T/ipykernel_1055/2784962474.py:1: UserWarning: pandas only supports SQLAlchemy connectable (engine/connection) or database string URI or sqlite3 DBAPI2 connection. Other DBAPI2 objects are not tested. Please consider using SQLAlchemy.\n",
      "  df=pd.read_sql('select * from marks;',conn)\n",
      "/var/folders/tb/z0bq9g_91gq1wl6skvm3b0fm0000gn/T/ipykernel_1055/2784962474.py:3: UserWarning: pandas only supports SQLAlchemy connectable (engine/connection) or database string URI or sqlite3 DBAPI2 connection. Other DBAPI2 objects are not tested. Please consider using SQLAlchemy.\n",
      "  df1=pd.read_sql('select name,avg(marks) as avg_marks from marks group by name;',conn)\n",
      "/var/folders/tb/z0bq9g_91gq1wl6skvm3b0fm0000gn/T/ipykernel_1055/2784962474.py:5: UserWarning: pandas only supports SQLAlchemy connectable (engine/connection) or database string URI or sqlite3 DBAPI2 connection. Other DBAPI2 objects are not tested. Please consider using SQLAlchemy.\n",
      "  df2=pd.read_sql('select name,avg(marks) as avg_marks from marks group by name order by avg_marks desc limit 1;',conn)\n",
      "/var/folders/tb/z0bq9g_91gq1wl6skvm3b0fm0000gn/T/ipykernel_1055/2784962474.py:7: UserWarning: pandas only supports SQLAlchemy connectable (engine/connection) or database string URI or sqlite3 DBAPI2 connection. Other DBAPI2 objects are not tested. Please consider using SQLAlchemy.\n",
      "  df3=pd.read_sql('select name,subject,marks from marks where marks in (select max(marks) from marks group by subject);',conn)\n",
      "/var/folders/tb/z0bq9g_91gq1wl6skvm3b0fm0000gn/T/ipykernel_1055/2784962474.py:9: UserWarning: pandas only supports SQLAlchemy connectable (engine/connection) or database string URI or sqlite3 DBAPI2 connection. Other DBAPI2 objects are not tested. Please consider using SQLAlchemy.\n",
      "  df4=pd.read_sql('select name,subject,marks from marks order by marks desc limit 1;',conn)\n"
     ]
    }
   ],
   "source": [
    "df=pd.read_sql('select * from marks;',conn)\n",
    "print(df.to_string(index=False))\n",
    "df1=pd.read_sql('select name,avg(marks) as avg_marks from marks group by name;',conn)\n",
    "print(df1.to_string(index=False))\n",
    "df2=pd.read_sql('select name,avg(marks) as avg_marks from marks group by name order by avg_marks desc limit 1;',conn)\n",
    "print(df2.to_string(index=False))\n",
    "df3=pd.read_sql('select name,subject,marks from marks where marks in (select max(marks) from marks group by subject);',conn)\n",
    "print(df3.to_string(index=False))\n",
    "df4=pd.read_sql('select name,subject,marks from marks order by marks desc limit 1;',conn)\n",
    "print(df4.to_string(index=False))\n",
    "conn.close()\n"
   ]
  },
  {
   "cell_type": "code",
   "execution_count": null,
   "id": "dea5b5a4-21fc-4db0-931a-a80e576f1dde",
   "metadata": {},
   "outputs": [],
   "source": []
  }
 ],
 "metadata": {
  "kernelspec": {
   "display_name": "Python [conda env:anaconda3] *",
   "language": "python",
   "name": "conda-env-anaconda3-py"
  },
  "language_info": {
   "codemirror_mode": {
    "name": "ipython",
    "version": 3
   },
   "file_extension": ".py",
   "mimetype": "text/x-python",
   "name": "python",
   "nbconvert_exporter": "python",
   "pygments_lexer": "ipython3",
   "version": "3.12.7"
  }
 },
 "nbformat": 4,
 "nbformat_minor": 5
}
